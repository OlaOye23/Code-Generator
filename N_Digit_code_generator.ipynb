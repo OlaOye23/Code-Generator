{
  "nbformat": 4,
  "nbformat_minor": 0,
  "metadata": {
    "colab": {
      "provenance": [],
      "collapsed_sections": []
    },
    "kernelspec": {
      "name": "python3",
      "display_name": "Python 3"
    },
    "language_info": {
      "name": "python"
    }
  },
  "cells": [
    {
      "cell_type": "markdown",
      "source": [
        "The code beneath generates a 6 digit OTP and uploads it to firestore for multiputpose use e.g Transaction verification OTP, access code generation, 2-factor auth, etc. It can be deployed as a cloud function on Azure, GCP, or AWS, or a self-managed service.\n",
        "There are three functions defined:\n",
        "\n",
        "1)generate_code: serves as the 'main' function orchestrates the process of generating the code and uploading it to the DB\n",
        "\n",
        "2)generate_random_no: This function generates a random n-digit number by joining together random n-digits into a single number.\n",
        "\n",
        "3)post_to_db: THis function uploads the generated n-digit number to the firestore database.\n",
        "\n",
        "The code can be adjusted to accomodate user info i.e. the n-digit code is posted to the DB along with information such as username, email, location, etc"
      ],
      "metadata": {
        "id": "NPyrEbn-z9Tp"
      }
    },
    {
      "cell_type": "code",
      "execution_count": null,
      "metadata": {
        "id": "bHG2berEzqpL"
      },
      "outputs": [],
      "source": [
        "!pip install exponent_server_sdk\n",
        "!pip install --upgrade firebase-admin"
      ]
    },
    {
      "cell_type": "code",
      "source": [
        "#CODEGEN\n",
        "  \n",
        "def generate_code(context):\n",
        "  '''generates and posts a unique 6 digit code (OTP) to a database  \n",
        "  '''\n",
        "  code_str= generate_random_no(n_digits= 6)\n",
        "  print(code_str)\n",
        "  print(\"posted to db\", post_to_db(code_str))\n",
        "  return str(code_str)\n",
        "  \n",
        "def generate_random_no(n_digits= 6):\n",
        "  '''uses random numbers to generate a unique n-digit code'''\n",
        "  import numpy as np\n",
        "\n",
        "  numbers = []\n",
        "  for i in range(n_digits):\n",
        "    numbers.append(int(np.floor(np.random.rand()*10)))\n",
        "  code = 0\n",
        "  code_str = ''\n",
        "  for i in range(0,n_digits,1):\n",
        "    code += numbers[i]*10**(n_digits-i-1)\n",
        "    code_str = code_str + str(numbers[i])\n",
        "  print(code_str)\n",
        "  return code_str\n",
        "\n",
        "def post_to_db( code_str):\n",
        "  '''post code along with user data in code db'''\n",
        "  #initialise firebase\n",
        "  import firebase_admin\n",
        "  from firebase_admin import credentials\n",
        "  from firebase_admin import firestore\n",
        "\n",
        "  # Use a service account\n",
        "  cred = credentials.Certificate('/shopmob/shopmob_service_acc')\n",
        "  try:\n",
        "    firebase_admin.initialize_app(cred)\n",
        "  except:\n",
        "    print('error occurred in initialising firebase. Perhaps already initialised')\n",
        "\n",
        "  try:\n",
        "  db = firestore.client()\n",
        "  #post to db --- uncomment fields to include user details\n",
        "  data = {\n",
        "  #u'uname': data['userId'],\n",
        "  #u'ID': data['userName'],\n",
        "  u'code': code_str \n",
        "        }\n",
        "  response = db.collection(u'codegen_codes').document(code_str).set(data)\n",
        "  except:\n",
        "    print(\"error occured in uploding the generated code\")\n",
        "  return response\n",
        "\n",
        "\n",
        "\n"
      ],
      "metadata": {
        "id": "rC2Bc0DJzsky"
      },
      "execution_count": null,
      "outputs": []
    },
    {
      "cell_type": "code",
      "source": [
        "generate_code(\"<userDetails>\")"
      ],
      "metadata": {
        "id": "JGamfjt2zvY9"
      },
      "execution_count": null,
      "outputs": []
    }
  ]
}